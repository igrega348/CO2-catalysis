{
 "cells": [
  {
   "cell_type": "code",
   "execution_count": 1,
   "metadata": {},
   "outputs": [],
   "source": [
    "import torch\n",
    "import numpy as np\n",
    "from scipy import optimize\n",
    "import matplotlib.pyplot as plt\n",
    "from analytical_models.gde_co import System, InputParameters\n",
    "from analytical_models import gde_co"
   ]
  },
  {
   "cell_type": "code",
   "execution_count": 2,
   "metadata": {},
   "outputs": [],
   "source": [
    "args = dict(\n",
    "    T=298, \n",
    "    p0=1, \n",
    "    Q=30, # liquid flow rate , ml/min \n",
    "    flow_chan_length=0.02, \n",
    "    flow_chan_height=5e-3, \n",
    "    flow_chan_width=1.5e-3, \n",
    "    L=20e-6, \n",
    "    eps=0.9, \n",
    "    r=(25+50)/2 * 1e-9, # 25 - 50 nm \n",
    "    c_khco3=500, \n",
    "    c_k=500, \n",
    "    dic=10**-3.408, \n",
    "    method='CO2 eql'\n",
    ")\n",
    "ipt = InputParameters(**args)\n",
    "S = System(ipt, mod=np)\n",
    "r1 = S.solve(-0.7)\n",
    "\n",
    "def dict_to_torch(d):\n",
    "    out = {}\n",
    "    for k, v in d.items():\n",
    "        try:\n",
    "            out[k] = torch.tensor(v)\n",
    "        except TypeError:\n",
    "            out[k] = v\n",
    "    return out\n",
    "\n",
    "ipt = InputParameters(**dict_to_torch(args))\n",
    "dc = dict_to_torch(S.diffusion_coefficients)\n",
    "se = dict_to_torch(S.salting_out_exponents)\n",
    "erc = dict_to_torch(S.electrode_reaction_kinetics)\n",
    "crr = dict_to_torch(S.chemical_reaction_rates)\n",
    "S = System(ipt, diffusion_coefficients=dc, salting_out_exponents=se, electrode_reaction_kinetics=erc, chemical_reaction_rates=crr, mod=torch)\n",
    "r2 = S.solve(torch.tensor([-0.7]))\n",
    "\n",
    "for k in r1.keys():\n",
    "    assert np.allclose(r1[k], r2[k].item(), rtol=1e-3, atol=1e-3)"
   ]
  },
  {
   "cell_type": "code",
   "execution_count": 3,
   "metadata": {},
   "outputs": [],
   "source": [
    "def make_numpy_system():\n",
    "    _ipt = InputParameters(**args)\n",
    "    return System(_ipt, mod=np)\n",
    "def make_torch_system():\n",
    "    _ipt = InputParameters(**dict_to_torch(args))\n",
    "    _dc = dict_to_torch(gde_co.diffusion_coefficients)\n",
    "    _se = dict_to_torch(gde_co.salting_out_exponents)\n",
    "    _erc = dict_to_torch(gde_co.electrode_reaction_kinetics)\n",
    "    _crr = dict_to_torch(gde_co.chemical_reaction_rates)\n",
    "    return System(_ipt, diffusion_coefficients=_dc, salting_out_exponents=_se, electrode_reaction_kinetics=_erc, chemical_reaction_rates=_crr, mod=torch)"
   ]
  },
  {
   "cell_type": "code",
   "execution_count": 4,
   "metadata": {},
   "outputs": [
    {
     "name": "stdout",
     "output_type": "stream",
     "text": [
      "1.46 ms ± 59.9 μs per loop (mean ± std. dev. of 7 runs, 1,000 loops each)\n",
      "3.96 ms ± 110 μs per loop (mean ± std. dev. of 7 runs, 100 loops each)\n"
     ]
    }
   ],
   "source": [
    "S = make_numpy_system()\n",
    "%timeit S.solve(-0.4)\n",
    "%timeit S.solve_current(200)"
   ]
  },
  {
   "cell_type": "code",
   "execution_count": 5,
   "metadata": {},
   "outputs": [
    {
     "name": "stdout",
     "output_type": "stream",
     "text": [
      "9.52 ms ± 90.6 μs per loop (mean ± std. dev. of 7 runs, 100 loops each)\n",
      "11.9 ms ± 95.6 μs per loop (mean ± std. dev. of 7 runs, 100 loops each)\n"
     ]
    }
   ],
   "source": [
    "S = make_torch_system()\n",
    "%timeit S.solve(-0.4)\n",
    "%timeit S.solve_current(200)"
   ]
  },
  {
   "cell_type": "markdown",
   "metadata": {},
   "source": [
    "Why does it take so long to solve with the torch system?"
   ]
  },
  {
   "cell_type": "code",
   "execution_count": 82,
   "metadata": {},
   "outputs": [
    {
     "name": "stdout",
     "output_type": "stream",
     "text": [
      "17 ms ± 446 μs per loop (mean ± std. dev. of 7 runs, 100 loops each)\n"
     ]
    }
   ],
   "source": [
    "S = make_torch_system()\n",
    "%timeit S.solve(-0.4)"
   ]
  },
  {
   "cell_type": "code",
   "execution_count": 49,
   "metadata": {},
   "outputs": [],
   "source": [
    "# is it better to do minimization or root solving?\n",
    "def minimize(self: System, target_current_density, voltage_bounds=(-1, 0), return_residual=False):\n",
    "    V = target_current_density.item() if isinstance(target_current_density, torch.Tensor) else target_current_density\n",
    "    if self.mod is torch:\n",
    "        S = self.copy(keep_grad=False)\n",
    "    else:\n",
    "        S = self\n",
    "    f = lambda phi: (S.solve(phi)['current_density'] - V)**2\n",
    "    res = optimize.minimize_scalar(f, bounds=voltage_bounds)\n",
    "    if not res.success:\n",
    "        print(res.message)\n",
    "    phi = res.x\n",
    "    residuals = res.fun\n",
    "    # found operating point. Now do forward pass with original model\n",
    "    out = self.solve(phi)\n",
    "    if return_residual:\n",
    "        return out, residuals\n",
    "    return out\n",
    "\n",
    "def root(self: System, target_current_density, voltage_bounds=(-1, 0)):\n",
    "    V = target_current_density.item() if isinstance(target_current_density, torch.Tensor) else target_current_density\n",
    "    if self.mod is torch:\n",
    "        S = self.copy(keep_grad=False)\n",
    "    else:\n",
    "        S = self\n",
    "    f = lambda phi: S.solve(phi)['current_density'] - V\n",
    "    phi, res = optimize.brentq(f, *voltage_bounds, full_output=True)\n",
    "    if not res.converged:\n",
    "        print(res.flag)\n",
    "    # found operating point. Now do forward pass with original model\n",
    "    out = self.solve(phi)\n",
    "    return out"
   ]
  },
  {
   "cell_type": "code",
   "execution_count": 50,
   "metadata": {},
   "outputs": [
    {
     "name": "stdout",
     "output_type": "stream",
     "text": [
      "24.8 ms ± 1.2 ms per loop (mean ± std. dev. of 7 runs, 10 loops each)\n",
      "22 ms ± 1.43 ms per loop (mean ± std. dev. of 7 runs, 10 loops each)\n"
     ]
    }
   ],
   "source": [
    "S = make_numpy_system()\n",
    "%timeit minimize(S, 200)\n",
    "%timeit root(S, 200)"
   ]
  },
  {
   "cell_type": "markdown",
   "metadata": {},
   "source": [
    "Both methods are nearly identical!"
   ]
  },
  {
   "cell_type": "code",
   "execution_count": 77,
   "metadata": {},
   "outputs": [],
   "source": [
    "# how about manually implementing a solution with vectorized operation?\n",
    "def interp_root(self: System, target_current_density, voltage_bounds=(-1, 0), grid_size=500, interp_method='linear'):\n",
    "    V = target_current_density.item() if isinstance(target_current_density, torch.Tensor) else target_current_density\n",
    "    if self.mod is torch:\n",
    "        S = self.copy(keep_grad=False)\n",
    "    else:\n",
    "        S = self\n",
    "    phi = np.linspace(*sorted(voltage_bounds, reverse=True), grid_size)\n",
    "    I = S.solve(phi)['current_density']\n",
    "    if interp_method == 'linear':\n",
    "        phi = np.interp(V, I, phi)\n",
    "    elif interp_method == 'manual':\n",
    "        i0 = np.searchsorted(I, V) - 1\n",
    "        i1 = i0 + 1\n",
    "        phi0 = phi[i0]\n",
    "        phi1 = phi[i1]\n",
    "        I0 = I[i0]\n",
    "        I1 = I[i1]\n",
    "        phi = phi0 + (V - I0) * (phi1 - phi0) / (I1 - I0)\n",
    "    elif interp_method == 'quadratic':\n",
    "        i0 = np.searchsorted(I, V) - 2\n",
    "        p = np.polyfit(I[i0:i0+3], phi[i0:i0+3], 2)\n",
    "        phi = np.polyval(p, V)\n",
    "    elif interp_method == 'cubic':\n",
    "        i0 = np.searchsorted(I, V) - 2\n",
    "        p = np.polyfit(I[i0:i0+3], phi[i0:i0+3], 3)\n",
    "        phi = np.polyval(p, V)\n",
    "    else:\n",
    "        raise ValueError(f'Unknown interp_method: {interp_method}')\n",
    "    # we are solving it twice anyways! \n",
    "    out = self.solve(phi)\n",
    "    return out\n",
    "\n",
    "def interp_2stage(self: System, target_current_density, voltage_bounds=(-1, 0), grid_size=500):\n",
    "    V = target_current_density.item() if isinstance(target_current_density, torch.Tensor) else target_current_density\n",
    "    if self.mod is torch:\n",
    "        S = self.copy(keep_grad=False)\n",
    "    else:\n",
    "        S = self\n",
    "    phi = np.linspace(*sorted(voltage_bounds, reverse=True), grid_size) # monotonic decreasing\n",
    "    I = S.solve(phi)['current_density'] # monotonic increasing\n",
    "    # look up using searchsorted\n",
    "    idx = np.searchsorted(I, V)\n",
    "    phi = np.linspace(phi[idx-1], phi[idx], grid_size)\n",
    "    I = S.solve(phi)['current_density']\n",
    "    phi = np.interp(V, I, phi)\n",
    "    out = self.solve(phi)\n",
    "    return out\n",
    "\n",
    "def interp_grid(self: System, target_current_density, voltage_bounds=(-1, 0), grid_size=500):\n",
    "    V = target_current_density.item() if isinstance(target_current_density, torch.Tensor) else target_current_density\n",
    "    if self.mod is torch:\n",
    "        S = self.copy(keep_grad=False)\n",
    "    else:\n",
    "        S = self\n",
    "    phi = np.linspace(*sorted(voltage_bounds, reverse=True), grid_size)\n",
    "    I = S.solve(phi)['current_density']\n",
    "    idx = np.searchsorted(I, V) - 1\n",
    "    phi = np.linspace(phi[idx], phi[idx+1], grid_size)\n",
    "    # now solve again and pick the closest one\n",
    "    res = self.solve(phi)\n",
    "    idx = np.argmin(np.abs(res['current_density'] - V))\n",
    "    out = {}\n",
    "    for k, v in res.items():\n",
    "        out[k] = v[idx]\n",
    "    return out"
   ]
  },
  {
   "cell_type": "code",
   "execution_count": 78,
   "metadata": {},
   "outputs": [
    {
     "name": "stdout",
     "output_type": "stream",
     "text": [
      "3.92 ms ± 156 μs per loop (mean ± std. dev. of 7 runs, 100 loops each)\n",
      "-0.004159917851950468\n",
      "3.99 ms ± 249 μs per loop (mean ± std. dev. of 7 runs, 100 loops each)\n",
      "-0.004159917851950468\n",
      "3.99 ms ± 220 μs per loop (mean ± std. dev. of 7 runs, 100 loops each)\n",
      "-0.004159917851950468\n",
      "5.99 ms ± 187 μs per loop (mean ± std. dev. of 7 runs, 100 loops each)\n",
      "-2.6591862933855737e-08\n",
      "4.36 ms ± 212 μs per loop (mean ± std. dev. of 7 runs, 100 loops each)\n",
      "0.0031864255057030277\n"
     ]
    }
   ],
   "source": [
    "S = make_numpy_system()\n",
    "target = 200\n",
    "%timeit interp_root(S, target)\n",
    "res = interp_root(S, target)['current_density'] - target\n",
    "print(res)\n",
    "%timeit interp_root(S, target, interp_method='manual')\n",
    "res = interp_root(S, target)['current_density'] - target\n",
    "print(res)\n",
    "%timeit interp_root(S, target, interp_method='quadratic')\n",
    "res = interp_root(S, target)['current_density'] - target\n",
    "print(res)\n",
    "%timeit interp_2stage(S, target)\n",
    "res = interp_2stage(S, target)['current_density'] - target\n",
    "print(res)\n",
    "%timeit interp_grid(S, target)\n",
    "res = interp_grid(S, target)['current_density'] - target\n",
    "print(res) # small improvement in accuracy"
   ]
  },
  {
   "cell_type": "markdown",
   "metadata": {},
   "source": [
    "Conclusion: no improvement in residual when using cubic interpolation as opposed to linear!"
   ]
  },
  {
   "cell_type": "code",
   "execution_count": 55,
   "metadata": {},
   "outputs": [
    {
     "name": "stdout",
     "output_type": "stream",
     "text": [
      "1.77 ms ± 50.4 μs per loop (mean ± std. dev. of 7 runs, 1,000 loops each)\n",
      "1.96 ms ± 34.8 μs per loop (mean ± std. dev. of 7 runs, 1,000 loops each)\n",
      "2 ms ± 53.9 μs per loop (mean ± std. dev. of 7 runs, 1,000 loops each)\n",
      "2.52 ms ± 231 μs per loop (mean ± std. dev. of 7 runs, 100 loops each)\n"
     ]
    }
   ],
   "source": [
    "# what is the vectorization saving?\n",
    "%timeit S.solve(-0.4)\n",
    "%timeit S.solve(np.linspace(-1.0, 0.0, 10))\n",
    "%timeit S.solve(np.linspace(-1.0, 0.0, 100))\n",
    "%timeit S.solve(np.linspace(-1.0, 0.0, 1000))"
   ]
  },
  {
   "cell_type": "code",
   "execution_count": 57,
   "metadata": {},
   "outputs": [
    {
     "name": "stdout",
     "output_type": "stream",
     "text": [
      "2.47 ms ± 165 μs per loop (mean ± std. dev. of 7 runs, 100 loops each)\n"
     ]
    }
   ],
   "source": [
    "%timeit S.solve(np.linspace(-1.0, 0.0, 1000))"
   ]
  },
  {
   "cell_type": "markdown",
   "metadata": {},
   "source": [
    "It makes more sense to do 10x finer grid as opposed to doing 2 searches"
   ]
  },
  {
   "cell_type": "markdown",
   "metadata": {},
   "source": [
    "Compare the residual for the two methods"
   ]
  },
  {
   "cell_type": "markdown",
   "metadata": {},
   "source": [
    "This is working fine!"
   ]
  },
  {
   "cell_type": "code",
   "execution_count": 7,
   "metadata": {},
   "outputs": [
    {
     "name": "stdout",
     "output_type": "stream",
     "text": [
      "tensor(-11799.0967)\n"
     ]
    }
   ],
   "source": [
    "S.input_parameters.L.requires_grad = True\n",
    "res, residuals = S.solve_current(200, return_residual=True)\n",
    "res['fe'].backward()\n",
    "print(S.input_parameters.L.grad)"
   ]
  },
  {
   "cell_type": "code",
   "execution_count": 4,
   "metadata": {},
   "outputs": [
    {
     "data": {
      "image/png": "[encoded data removed]",
      "text/plain": [
       "<Figure size 640x480 with 1 Axes>"
      ]
     },
     "metadata": {},
     "output_type": "display_data"
    }
   ],
   "source": [
    "plt.plot(residuals)\n",
    "plt.yscale('log')"
   ]
  },
  {
   "cell_type": "markdown",
   "metadata": {},
   "source": [
    "Solve current also appears to be working fine"
   ]
  },
  {
   "cell_type": "code",
   "execution_count": 5,
   "metadata": {},
   "outputs": [
    {
     "data": {
      "text/plain": [
       "tensor(199.9995, grad_fn=<AddBackward0>)"
      ]
     },
     "execution_count": 5,
     "metadata": {},
     "output_type": "execute_result"
    }
   ],
   "source": [
    "res['current_density']"
   ]
  }
 ],
 "metadata": {
  "kernelspec": {
   "display_name": "ase",
   "language": "python",
   "name": "python3"
  },
  "language_info": {
   "codemirror_mode": {
    "name": "ipython",
    "version": 3
   },
   "file_extension": ".py",
   "mimetype": "text/x-python",
   "name": "python",
   "nbconvert_exporter": "python",
   "pygments_lexer": "ipython3",
   "version": "3.12.4"
  }
 },
 "nbformat": 4,
 "nbformat_minor": 2
}
