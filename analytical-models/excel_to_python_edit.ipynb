{
 "cells": [
  {
   "cell_type": "code",
   "execution_count": 61,
   "metadata": {},
   "outputs": [],
   "source": [
    "import pandas as pd\n",
    "import numpy as np\n",
    "import matplotlib.pyplot as plt\n",
    "import seaborn as sns\n",
    "import scipy.optimize as opt"
   ]
  },
  {
   "cell_type": "markdown",
   "metadata": {},
   "source": [
    "Cross-referencing with equations in the SI of the paper and rewriting in more pythonic way"
   ]
  },
  {
   "cell_type": "markdown",
   "metadata": {},
   "source": [
    "Both DIC method and CO2 equilibrium method implemented now"
   ]
  },
  {
   "cell_type": "code",
   "execution_count": 62,
   "metadata": {},
   "outputs": [
    {
     "data": {
      "text/plain": [
       "{'Henry constant': 34.06103747827045, 'R': 8.3145, 'F': 96485}"
      ]
     },
     "execution_count": 62,
     "metadata": {},
     "output_type": "execute_result"
    }
   ],
   "source": [
    "T = 298.15 # K\n",
    "input_parameters = {\n",
    "    'Method': 'CO2 eql', # 'DIC' or 'CO2 eql'\n",
    "    'Temperature': T\n",
    "}\n",
    "physical_constants = {\n",
    "    'Henry constant': 1000*np.exp(93.4517*100/T - 60.2409 + 23.3585*np.log(T/100)), # [mol/(m^3 Pa)]\n",
    "    'R': 8.3145, # [J/(mol K)]\n",
    "    'F': 96485, # [C/mol]\n",
    "}\n",
    "physical_constants"
   ]
  },
  {
   "cell_type": "code",
   "execution_count": 63,
   "metadata": {},
   "outputs": [],
   "source": [
    "diffusion_coefficients = {\n",
    "    'CO2': 1.91e-09,\n",
    "    'OH': 5.293e-09,\n",
    "    'CO3': 9.23e-10,\n",
    "    'HCO3': 1.18e-09,\n",
    "    'H': 9.311e-09,\n",
    "    'K': 1.96e-09,\n",
    "    'CO': 2.03e-09,\n",
    "    'H2': 4.5e-09\n",
    "} # [m^2/s]\n",
    "salting_out_exponents = {\n",
    "    'h_OH': 6.67e-05,\n",
    "    'h_CO3': 0.0001251,\n",
    "    'h_HCO3': 7.95e-05,\n",
    "    'h_K': 7.5e-05,\n",
    "    'h_CO2': 0.0\n",
    "} # [m^3/mol]"
   ]
  },
  {
   "cell_type": "code",
   "execution_count": 64,
   "metadata": {},
   "outputs": [
    {
     "data": {
      "text/plain": [
       "{'Method': 'CO2 eql',\n",
       " 'Temperature': 298.15,\n",
       " 'CO2 partial pressure': 1,\n",
       " 'Flow rate': 5,\n",
       " 'Flow channel active length': 0.02,\n",
       " 'Flow channel height (plane parallel)': 0.005,\n",
       " 'Flow channel width (plane perpendicular)': 0.0015,\n",
       " 'Flow velocity': 0.01111111111111111,\n",
       " 'Catalyst layer length': 3.81e-06,\n",
       " 'Catalyst layer porosity': 0.5,\n",
       " 'Catalyst layer average particle radius': 5e-08,\n",
       " 'Catalyst layer volumetric surface area': 30000000.0,\n",
       " 'KHCO3 concentration': 500,\n",
       " 'K+': 500,\n",
       " 'Method 1 (DIC)': 0.0003908408957924021,\n",
       " 'Gas diffusion layer mass transfer coefficient': 0.013505739520663057}"
      ]
     },
     "execution_count": 64,
     "metadata": {},
     "output_type": "execute_result"
    }
   ],
   "source": [
    "input_parameters.update({\n",
    "    'CO2 partial pressure': 1, # atm\n",
    "    'Flow rate': 5, # mL/min\n",
    "    'Flow channel active length': 0.02, # m\n",
    "    'Flow channel height (plane parallel)': 5e-3, # m\n",
    "    'Flow channel width (plane perpendicular)': 1.5e-3, # m\n",
    "})\n",
    "input_parameters['Flow velocity'] = input_parameters['Flow rate'] / (input_parameters['Flow channel height (plane parallel)'] * input_parameters['Flow channel width (plane perpendicular)']) * 1e-6/60 # m/s\n",
    "input_parameters.update({\n",
    "    'Catalyst layer length': 3.81E-06, # m\n",
    "    'Catalyst layer porosity': 0.5,\n",
    "    'Catalyst layer average particle radius': 5.0e-08, # m\n",
    "})\n",
    "input_parameters['Catalyst layer volumetric surface area'] = 3 * (1 - input_parameters['Catalyst layer porosity']) / input_parameters['Catalyst layer average particle radius'] # m^-1\n",
    "input_parameters['KHCO3 concentration'] = 500 # mol/m^3\n",
    "input_parameters['K+'] = input_parameters['KHCO3 concentration']\n",
    "input_parameters['Method 1 (DIC)'] = 10**-3.408\n",
    "\n",
    "electrode_reaction_kinetics = {\n",
    "    'i_0_CO': 0.00471, # [A/m^2]\n",
    "    'i_0_H2a': 0.00979, # [A/m^2]\n",
    "    'i_0_H2b': 1.16e-05, # [A/m^2]\n",
    "    'alpha_CO': 0.44,\n",
    "    'alpha_H2a': 0.27,\n",
    "    'alpha_H2b': 0.36,\n",
    "    'E_0_CO2': -0.11, # [V]\n",
    "    'E_0_H2a': 0.0, # [V]\n",
    "    'E_0_H2b': 0.0 # [V]\n",
    "}\n",
    "alpha_to_b = lambda alpha: T*physical_constants['R']/(alpha*physical_constants['F'])\n",
    "electrode_reaction_kinetics['b_CO2'] = alpha_to_b(electrode_reaction_kinetics['alpha_CO'])\n",
    "electrode_reaction_kinetics['b_H2a'] = alpha_to_b(electrode_reaction_kinetics['alpha_H2a'])\n",
    "electrode_reaction_kinetics['b_H2b'] = alpha_to_b(electrode_reaction_kinetics['alpha_H2b'])\n",
    "for substance in ['CO2','OH','CO3','HCO3','H','K','CO','H2']:\n",
    "    electrode_reaction_kinetics[f'D{substance}'] = diffusion_coefficients[substance]*input_parameters['Catalyst layer porosity']**1.5\n",
    "\n",
    "input_parameters['Gas diffusion layer mass transfer coefficient'] = electrode_reaction_kinetics['DCO2'] / input_parameters['Catalyst layer average particle radius'] # [m/s]\n",
    "\n",
    "input_parameters"
   ]
  },
  {
   "cell_type": "code",
   "execution_count": 65,
   "metadata": {},
   "outputs": [
    {
     "data": {
      "text/plain": [
       "{'i_0_CO': 0.00471,\n",
       " 'i_0_H2a': 0.00979,\n",
       " 'i_0_H2b': 1.16e-05,\n",
       " 'alpha_CO': 0.44,\n",
       " 'alpha_H2a': 0.27,\n",
       " 'alpha_H2b': 0.36,\n",
       " 'E_0_CO2': -0.11,\n",
       " 'E_0_H2a': 0.0,\n",
       " 'E_0_H2b': 0.0,\n",
       " 'b_CO2': 0.058392688807021344,\n",
       " 'b_H2a': 0.09515845583366442,\n",
       " 'b_H2b': 0.07136884187524832,\n",
       " 'DCO2': 6.752869760331528e-10,\n",
       " 'DOH': 1.871358096410198e-09,\n",
       " 'DCO3': 3.2632977951759173e-10,\n",
       " 'DHCO3': 4.171930009000631e-10,\n",
       " 'DH': 3.291935619813972e-09,\n",
       " 'DK': 6.929646455628165e-10,\n",
       " 'DCO': 7.177133829043458e-10,\n",
       " 'DH2': 1.590990257669732e-09}"
      ]
     },
     "execution_count": 65,
     "metadata": {},
     "output_type": "execute_result"
    }
   ],
   "source": [
    "electrode_reaction_kinetics"
   ]
  },
  {
   "cell_type": "code",
   "execution_count": 66,
   "metadata": {},
   "outputs": [
    {
     "data": {
      "text/plain": [
       "{'Salinity': 24.47800651114973,\n",
       " 'pK1_0': 6.351479474463076,\n",
       " 'pK2_0': 10.329718047170417,\n",
       " 'A1': 67.16962274581519,\n",
       " 'A2': 107.17428008515591,\n",
       " 'B1': -2772.186223903275,\n",
       " 'B2': -4312.687688396103,\n",
       " 'C1': -10.238903590992985,\n",
       " 'C2': -16.493070312120906,\n",
       " 'pK1': 5.886000594241267,\n",
       " 'pK2': 9.068309507810866,\n",
       " 'K1': 1.3001677990240674e-06,\n",
       " 'K2': 8.544575512302501e-10,\n",
       " 'Kw': 4.8746440592899435e-14}"
      ]
     },
     "execution_count": 66,
     "metadata": {},
     "output_type": "execute_result"
    }
   ],
   "source": [
    "T = input_parameters['Temperature']\n",
    "kco3_to_salinity = lambda x: x/(1.005*x/1000+19.924)\n",
    "initial_carbonate_equilibria = {\n",
    "    'Salinity': kco3_to_salinity(input_parameters['KHCO3 concentration']),\n",
    "    'pK1_0': -126.34048 + 6320.813/T + 19.568224*np.log(T),\n",
    "    'pK2_0': -90.18333 + 5143.692/T + 14.613358*np.log(T),\n",
    "}\n",
    "salinity_to_A1 = lambda x: 13.4191*x**0.5 + 0.0331*x - 5.33e-5*x**2\n",
    "initial_carbonate_equilibria['A1'] = salinity_to_A1(initial_carbonate_equilibria['Salinity'])\n",
    "salinity_to_A2 = lambda x: 21.0894*x**0.5 + 0.1248*x - 3.687e-4*x**2\n",
    "initial_carbonate_equilibria['A2'] = salinity_to_A2(initial_carbonate_equilibria['Salinity'])\n",
    "salinity_to_B1 = lambda x: -530.123*x**0.5 - 6.103*x\n",
    "initial_carbonate_equilibria['B1'] = salinity_to_B1(initial_carbonate_equilibria['Salinity'])\n",
    "salinity_to_B2 = lambda x: -772.483*x**0.5 - 20.051*x\n",
    "initial_carbonate_equilibria['B2'] = salinity_to_B2(initial_carbonate_equilibria['Salinity'])\n",
    "initial_carbonate_equilibria['C1'] = -2.0695*initial_carbonate_equilibria['Salinity']**0.5\n",
    "initial_carbonate_equilibria['C2'] = -3.3336*initial_carbonate_equilibria['Salinity']**0.5\n",
    "initial_carbonate_equilibria['pK1'] = initial_carbonate_equilibria['pK1_0'] + initial_carbonate_equilibria['A1'] + initial_carbonate_equilibria['B1']/T + initial_carbonate_equilibria['C1']*np.log(T)\n",
    "initial_carbonate_equilibria['pK2'] = initial_carbonate_equilibria['pK2_0'] + initial_carbonate_equilibria['A2'] + initial_carbonate_equilibria['B2']/T + initial_carbonate_equilibria['C2']*np.log(T)\n",
    "initial_carbonate_equilibria['K1'] = 10**-initial_carbonate_equilibria['pK1']\n",
    "initial_carbonate_equilibria['K2'] = 10**-initial_carbonate_equilibria['pK2']\n",
    "initial_carbonate_equilibria['Kw'] = np.exp(148.96502 - 13847.26/T - 23.6521*np.log(T) + (-5.977 + 118.67/T + 1.0495*np.log(T))*initial_carbonate_equilibria['Salinity']**0.5 - 0.01615*initial_carbonate_equilibria['Salinity'])\n",
    "\n",
    "initial_carbonate_equilibria"
   ]
  },
  {
   "cell_type": "code",
   "execution_count": 67,
   "metadata": {},
   "outputs": [],
   "source": [
    "chemical_reaction_rates = {\n",
    "    'k1f': 2.23, # [m^3/(mol s)]\n",
    "    'k1r': 0.000840308, # [1/s]\n",
    "    'k2f': 6000000.0, # [m^3/(mol s)]\n",
    "    'k2r': 345200.0, # [1/s]\n",
    "    'c_ref': 1000.0 # [mol/m^3]\n",
    "    }"
   ]
  },
  {
   "cell_type": "code",
   "execution_count": 68,
   "metadata": {},
   "outputs": [
    {
     "data": {
      "text/plain": [
       "{'A': 1,\n",
       " 'B': 0.500001300167799,\n",
       " 'C': -4.7635502399156905e-14,\n",
       " 'D': -5.555324754236402e-16,\n",
       " 'E': -5.415428266365318e-29,\n",
       " 'initial_pH': 7,\n",
       " 'final_pH': 7.477129599560376,\n",
       " 'CO2': 12.193436804360426,\n",
       " 'HCO3': 475.6145554799038,\n",
       " 'CO3': 12.192007715735759,\n",
       " 'OH': 0.0014624213175124347,\n",
       " 'K': 500}"
      ]
     },
     "execution_count": 68,
     "metadata": {},
     "output_type": "execute_result"
    }
   ],
   "source": [
    "dic_electrolyte_solution = {\n",
    "    'A': 1,\n",
    "    'B': initial_carbonate_equilibria['K1'] + input_parameters['KHCO3 concentration']/1000,\n",
    "    'C': initial_carbonate_equilibria['K1']*initial_carbonate_equilibria['K2'] - initial_carbonate_equilibria['Kw'],\n",
    "    'D': -initial_carbonate_equilibria['K1']*(initial_carbonate_equilibria['Kw'] + initial_carbonate_equilibria['K2']*input_parameters['KHCO3 concentration']/1000),\n",
    "    'E': -initial_carbonate_equilibria['Kw']*initial_carbonate_equilibria['K2']*initial_carbonate_equilibria['K1'],\n",
    "    'initial_pH': 7,\n",
    "}\n",
    "x_n = 1e-4\n",
    "f_xn = lambda x: dic_electrolyte_solution['A']*x**4 + dic_electrolyte_solution['B']*x**3 + dic_electrolyte_solution['C']*x**2 + dic_electrolyte_solution['D']*x + dic_electrolyte_solution['E']\n",
    "df_xn = lambda x: 4*dic_electrolyte_solution['A']*x**3 + 3*dic_electrolyte_solution['B']*x**2 + 2*dic_electrolyte_solution['C']*x + dic_electrolyte_solution['D']\n",
    "# find root of f(x) = 0\n",
    "x_n = opt.newton(f_xn, x_n, fprime=df_xn, tol=1e-35)\n",
    "dic_electrolyte_solution['final_pH'] = -np.log10(x_n)\n",
    "dic_electrolyte_solution['CO2'] = input_parameters['KHCO3 concentration']/(1 + initial_carbonate_equilibria['K1']/x_n + initial_carbonate_equilibria['K1']*initial_carbonate_equilibria['K2']/x_n**2)\n",
    "dic_electrolyte_solution['HCO3'] = dic_electrolyte_solution['CO2']*initial_carbonate_equilibria['K1']/x_n\n",
    "dic_electrolyte_solution['CO3'] = dic_electrolyte_solution['HCO3']*initial_carbonate_equilibria['K2']/x_n\n",
    "dic_electrolyte_solution['OH'] = initial_carbonate_equilibria['Kw']/x_n * 1000\n",
    "dic_electrolyte_solution['K'] = input_parameters['KHCO3 concentration']\n",
    "dic_electrolyte_solution"
   ]
  },
  {
   "cell_type": "code",
   "execution_count": 69,
   "metadata": {},
   "outputs": [
    {
     "data": {
      "text/plain": [
       "{'final_pH': 9.599255514698061,\n",
       " 'CO2': 0.012414142330721354,\n",
       " 'HCO3': 64.14630439620164,\n",
       " 'OH': 0.1937306895325272,\n",
       " 'K': 500,\n",
       " 'CO3': 217.8299780419416}"
      ]
     },
     "execution_count": 69,
     "metadata": {},
     "output_type": "execute_result"
    }
   ],
   "source": [
    "co2_init = physical_constants['Henry constant']*input_parameters['Method 1 (DIC)']\n",
    "\n",
    "A = 1\n",
    "b = input_parameters['KHCO3 concentration']/1000\n",
    "c = lambda co2: -(initial_carbonate_equilibria['Kw'] + initial_carbonate_equilibria['K1']*co2/1000)\n",
    "d = lambda co2: -2*co2/1000*initial_carbonate_equilibria['K1']*initial_carbonate_equilibria['K2']\n",
    "f_xn = lambda x, a,b,c,d: a*x**3 + b*x**2 + c*x + d\n",
    "df_xn = lambda x, a,b,c,d: 3*a*x**2 + 2*b*x + c \n",
    "xn_to_co2 = lambda xn, co2: physical_constants['Henry constant']*input_parameters['Method 1 (DIC)']*np.exp(\n",
    "    -input_parameters['K+']*salting_out_exponents['h_K'] -\n",
    "    salting_out_exponents['h_HCO3']*co2*initial_carbonate_equilibria['K1']/xn -\n",
    "    co2*salting_out_exponents['h_CO3']*initial_carbonate_equilibria['K1']*initial_carbonate_equilibria['K2']/xn**2 -\n",
    "    salting_out_exponents['h_OH']*initial_carbonate_equilibria['Kw']/xn*1000\n",
    ")\n",
    "# find root of f(x) = 0\n",
    "co2 = co2_init\n",
    "for i in range(3):\n",
    "    x_n = opt.newton(f_xn, x0=1e-5, fprime=df_xn, tol=1e-36, args=(A,b,c(co2),d(co2)))\n",
    "    co2 = xn_to_co2(x_n, co2)\n",
    "\n",
    "co2_equilibrium_sol = {\n",
    "    'final_pH': -np.log10(x_n),\n",
    "    'CO2': co2,\n",
    "    'HCO3': co2*initial_carbonate_equilibria['K1']/x_n,\n",
    "    'OH': initial_carbonate_equilibria['Kw']/x_n * 1000,\n",
    "    'K': input_parameters['K+'],\n",
    "}\n",
    "co2_equilibrium_sol['CO3'] = co2_equilibrium_sol['HCO3']*initial_carbonate_equilibria['K2']/x_n\n",
    "co2_equilibrium_sol"
   ]
  },
  {
   "cell_type": "code",
   "execution_count": 70,
   "metadata": {},
   "outputs": [
    {
     "data": {
      "text/plain": [
       "0.01111111111111111"
      ]
     },
     "execution_count": 70,
     "metadata": {},
     "output_type": "execute_result"
    }
   ],
   "source": [
    "input_parameters['Flow velocity']"
   ]
  },
  {
   "cell_type": "code",
   "execution_count": 71,
   "metadata": {},
   "outputs": [
    {
     "data": {
      "text/plain": [
       "{'mu': 9.3944e-07,\n",
       " 'Reynolds Number': 236.54754132485544,\n",
       " 'Hydrodynamic Entrance length': 0.003512730988674104,\n",
       " 'Parallel plate effective boundary layer': 0.0005571428571428572,\n",
       " 'Developing boundary layer thickness CO2 (average)': 0.0002082297849599541,\n",
       " 'Developing boundary layer thickness OH (average)': 0.00029248192081643507,\n",
       " 'Developing boundary layer thickness CO3 (average)': 0.00016340510807976482,\n",
       " 'Developing boundary layer thickness HCO3 (average)': 0.00017734776946557972,\n",
       " 'Developing boundary layer thickness H (average)': 0.00035307245480052283,\n",
       " 'Developing boundary layer thickness K (average)': 0.00021003117016132972,\n",
       " 'Developing boundary layer thickness CO (average)': 0.00021250235181041242,\n",
       " 'Developing boundary layer thickness H2 (average)': 0.0002770783330176991,\n",
       " 'K_L_CO2': 6.924176126360003e-06,\n",
       " 'K_L_OH': 1.4452520065854136e-05,\n",
       " 'K_L_CO3': 4.162362825522188e-06,\n",
       " 'K_L_HCO3': 4.937409025723504e-06,\n",
       " 'K_L_H': 2.2076471242713813e-05,\n",
       " 'K_L_K': 7.051993347990138e-06,\n",
       " 'K_L_CO': 7.229537031922291e-06,\n",
       " 'K_L_H2': 1.2825820509963985e-05}"
      ]
     },
     "execution_count": 71,
     "metadata": {},
     "output_type": "execute_result"
    }
   ],
   "source": [
    "flow_channel_characteristics = {\n",
    "    'mu': 0.00000093944, # [m^2/s]\n",
    "}\n",
    "flow_channel_characteristics['Reynolds Number'] = input_parameters['Flow velocity']*input_parameters['Flow channel active length']/flow_channel_characteristics['mu']\n",
    "flow_channel_characteristics['Hydrodynamic Entrance length'] = 0.0099*flow_channel_characteristics['Reynolds Number']*input_parameters['Flow channel width (plane perpendicular)']\n",
    "flow_channel_characteristics['Parallel plate effective boundary layer'] = 13/35*input_parameters['Flow channel width (plane perpendicular)']\n",
    "diff_coeff_to_bl_thickness = lambda x: 3*1.607/4*(input_parameters['Flow channel width (plane perpendicular)']*x*input_parameters['Flow channel active length']/input_parameters['Flow velocity'])**(1/3)\n",
    "diff_coeff_to_K_L = lambda D,L: D*np.sqrt(L**-2+flow_channel_characteristics['Parallel plate effective boundary layer']**-2)/np.sqrt(2)\n",
    "for substance in ['CO2', 'OH', 'CO3', 'HCO3', 'H', 'K', 'CO', 'H2']:\n",
    "    flow_channel_characteristics[f'Developing boundary layer thickness {substance} (average)'] = diff_coeff_to_bl_thickness(diffusion_coefficients[substance])\n",
    "for substance in ['CO2', 'OH', 'CO3', 'HCO3', 'H', 'K', 'CO', 'H2']:\n",
    "    flow_channel_characteristics[f'K_L_{substance}'] = diff_coeff_to_K_L(diffusion_coefficients[substance], flow_channel_characteristics[f'Developing boundary layer thickness {substance} (average)'])\n",
    "\n",
    "flow_channel_characteristics"
   ]
  },
  {
   "cell_type": "code",
   "execution_count": 72,
   "metadata": {},
   "outputs": [
    {
     "name": "stdout",
     "output_type": "stream",
     "text": [
      "CO2 equilibrium method\n"
     ]
    }
   ],
   "source": [
    "phi_ext = np.linspace(0, -1.200, 241) # with respect to SHE\n",
    "A = input_parameters['Catalyst layer volumetric surface area']\n",
    "F = physical_constants['F']\n",
    "R = physical_constants['R']\n",
    "L = input_parameters['Catalyst layer length']\n",
    "E_CO = -0.11\n",
    "Hnr = physical_constants['Henry constant']\n",
    "if input_parameters['Method']=='DIC':\n",
    "    print('DIC method')\n",
    "    OH_neg = dic_electrolyte_solution['OH']\n",
    "    HCO3_neg = dic_electrolyte_solution['HCO3']\n",
    "    CO3_2neg = dic_electrolyte_solution['CO3']\n",
    "elif input_parameters['Method']=='CO2 eql':\n",
    "    print('CO2 equilibrium method')\n",
    "    OH_neg = co2_equilibrium_sol['OH']\n",
    "    HCO3_neg = co2_equilibrium_sol['HCO3']\n",
    "    CO3_2neg = co2_equilibrium_sol['CO3']\n",
    "\n",
    "overpotential = phi_ext - E_CO\n",
    "M = lambda k: np.sqrt(k*L**2/electrode_reaction_kinetics['DCO2'])\n",
    "\n",
    "# solve without equilibrium reactions\n",
    "k0 = A/(2*F) * electrode_reaction_kinetics['i_0_CO']/chemical_reaction_rates['c_ref'] * np.exp(\n",
    "    -overpotential/(electrode_reaction_kinetics['b_CO2']))\n",
    "eff_0 = 1/(M(k0)/np.tanh(M(k0)) + k0*L/input_parameters['Gas diffusion layer mass transfer coefficient'])\n",
    "c00 = Hnr*input_parameters['CO2 partial pressure']*eff_0\n",
    "\n",
    "# estimating OH- concentration\n",
    "r_H2 = A*electrode_reaction_kinetics['i_0_H2b']/F * np.exp(-phi_ext/electrode_reaction_kinetics['b_H2b']) # phi_ext is with respect to SHE\n",
    "c10 = OH_neg+(\n",
    "    flow_channel_characteristics['K_L_OH']*OH_neg - \n",
    "    1/(\n",
    "        1/(L*(r_H2+2*k0*c00)) +\n",
    "        1/(flow_channel_characteristics['K_L_HCO3']*HCO3_neg)\n",
    "       )\n",
    "    + L*(r_H2+2*k0*c00)\n",
    ") / (\n",
    "    flow_channel_characteristics['K_L_OH'] + 2*input_parameters['Catalyst layer porosity']*L*chemical_reaction_rates['k1f']*c00\n",
    ")\n",
    "# OH- + (\n",
    "#     K_L_OH*OH- - (\n",
    "#         1/(\n",
    "#             1/(L*(r_H2+2*k0*c00)) + \n",
    "#             1/(K_L_HCO3*HCO3-)\n",
    "#             )\n",
    "#         ) + L*(r_H2+2*k0*c00)) / (\n",
    "#             K_L_OH+2*porosity*L*kf1*c00\n",
    "#             )\n",
    "\n",
    "# update CO2 concentration \n",
    "k1 = k0 + input_parameters['Catalyst layer porosity']*chemical_reaction_rates['k1f']*c10\n",
    "k1_M = M(k1)\n",
    "eff_1 = 1/(M(k1)/np.tanh(M(k1)) + k1*L/input_parameters['Gas diffusion layer mass transfer coefficient'])\n",
    "c01 = eff_1*input_parameters['CO2 partial pressure']*Hnr\n",
    "# update OH- concentration\n",
    "c11 = OH_neg + (\n",
    "    flow_channel_characteristics['K_L_OH']*OH_neg - 1/(\n",
    "        1/(L*(r_H2+2*k0*c01)) + 1/(flow_channel_characteristics['K_L_HCO3']*HCO3_neg)\n",
    "    ) + L*(r_H2+2*k0*c01) \n",
    "    ) / (\n",
    "    flow_channel_characteristics['K_L_OH']+2*chemical_reaction_rates['k1f']*L*input_parameters['Catalyst layer porosity']*c01\n",
    ")\n",
    "# solve for CO3--\n",
    "A_1 = (\n",
    "    2*flow_channel_characteristics['K_L_CO3']*CO3_2neg + flow_channel_characteristics['K_L_HCO3']*HCO3_neg + flow_channel_characteristics['K_L_OH']*OH_neg + L*r_H2 - flow_channel_characteristics['K_L_OH']*c11\n",
    ") / (2*flow_channel_characteristics['K_L_CO3'])\n",
    "B_2 = L*2*k0*c01 / (2*flow_channel_characteristics['K_L_CO3']) * np.exp(-c11*(salting_out_exponents['h_OH']+salting_out_exponents['h_K']))\n",
    "C = salting_out_exponents['h_CO3']+2*salting_out_exponents['h_K']\n",
    "c20 = A_1+np.log(\n",
    "    1+(B_2*C * np.exp(-A_1*C)) / (1+np.log(np.sqrt(1+B_2*C*np.exp(-A_1*C))))\n",
    "    ) / C\n",
    "# salting out corrected CO2 concentration\n",
    "c02 = eff_1*input_parameters['CO2 partial pressure']*Hnr*np.exp(\n",
    "    -salting_out_exponents['h_OH']*c11 - salting_out_exponents['h_CO3']*c20 - salting_out_exponents['h_K']*(c11+2*c20)\n",
    ")\n",
    "# corrected OH- concentration\n",
    "c12 = OH_neg + (\n",
    "    flow_channel_characteristics['K_L_OH']*OH_neg - 1/(\n",
    "        1/(L*(r_H2+2*k0*c02)) + 1/(flow_channel_characteristics['K_L_HCO3']*HCO3_neg)\n",
    "    ) + L*(r_H2+2*k0*c02)\n",
    "    ) / (\n",
    "    flow_channel_characteristics['K_L_OH']+2*chemical_reaction_rates['k1f']*L*input_parameters['Catalyst layer porosity']*c02\n",
    ")\n",
    "\n",
    "k2 = k0 + input_parameters['Catalyst layer porosity']*chemical_reaction_rates['k1f']*c12\n",
    "eff_2 = 1/(\n",
    "    np.sqrt(\n",
    "        k2*L**2/electrode_reaction_kinetics['DCO2']\n",
    "    ) / np.tanh(np.sqrt(\n",
    "        k2*L**2/electrode_reaction_kinetics['DCO2']\n",
    "    )) + k2*L/input_parameters['Gas diffusion layer mass transfer coefficient']\n",
    ")\n",
    "A_1_1 = (\n",
    "    2*flow_channel_characteristics['K_L_CO3']*CO3_2neg + flow_channel_characteristics['K_L_HCO3']*HCO3_neg + flow_channel_characteristics['K_L_OH']*OH_neg + L*r_H2 - flow_channel_characteristics['K_L_OH']*c12\n",
    ") / (2*flow_channel_characteristics['K_L_CO3'])\n",
    "# formula for this B2 is different than for the previous B2\n",
    "B_2_1 = L*2*k0*eff_2*Hnr*input_parameters['CO2 partial pressure'] / (2*flow_channel_characteristics['K_L_CO3']) * np.exp(-c12*(salting_out_exponents['h_OH']+salting_out_exponents['h_K']))\n",
    "c21 = A_1_1+np.log(\n",
    "    1+(\n",
    "        B_2_1*(salting_out_exponents['h_CO3']+2*salting_out_exponents['h_K']) * np.exp(-A_1_1*(salting_out_exponents['h_CO3']+2*salting_out_exponents['h_K']))\n",
    "        ) / (\n",
    "            1+np.log(np.sqrt(1+B_2_1*(salting_out_exponents['h_CO3']+2*salting_out_exponents['h_K'])*np.exp(-A_1_1*(salting_out_exponents['h_CO3']+2*salting_out_exponents['h_K']))))\n",
    "            )\n",
    "    ) / (\n",
    "    salting_out_exponents['h_CO3']+2*salting_out_exponents['h_K']\n",
    ")\n",
    "c21 = np.maximum(c21, 0)\n",
    "c03 = input_parameters['CO2 partial pressure']*Hnr*np.exp(\n",
    "    -salting_out_exponents['h_OH']*c12-salting_out_exponents['h_CO3']*c21-salting_out_exponents['h_K']*(c12+2*c21)\n",
    ")*eff_2\n",
    "potential_vs_rhe = phi_ext - R*T/F*np.log(c12/OH_neg)\n",
    "co_current_density = L*c03*k0*2*F/10\n",
    "co2 = c03\n",
    "co3 = c21\n",
    "pH = np.log10(c12/1000/initial_carbonate_equilibria['Kw'])\n",
    "fe = co_current_density*10/(co_current_density*10+(F*L*r_H2))\n",
    "parasitic = c03*c12*input_parameters['Catalyst layer porosity']*L*chemical_reaction_rates['k1f']\n",
    "electrode = L*k0*c03\n",
    "gdl_flux = input_parameters['Gas diffusion layer mass transfer coefficient']*(\n",
    "    Hnr*input_parameters['CO2 partial pressure']*np.exp(\n",
    "        -salting_out_exponents['h_OH']*c12-salting_out_exponents['h_CO3']*c21-salting_out_exponents['h_K']*(c12+2*c21)\n",
    "    ) - c03*np.sqrt(\n",
    "        k2*L**2/electrode_reaction_kinetics['DCO2']\n",
    "    ) / np.tanh(\n",
    "        np.sqrt(k2*L**2/electrode_reaction_kinetics['DCO2'])\n",
    "    )\n",
    ")\n",
    "ve_rhe = (electrode_reaction_kinetics['E_0_CO2'] - R*T/F*np.log(c12/OH_neg))/potential_vs_rhe\n",
    "ve_rhe = np.minimum(ve_rhe, 1)\n",
    "hco3 = np.minimum(\n",
    "    HCO3_neg+Hnr*input_parameters['CO2 partial pressure']*np.exp(\n",
    "        -salting_out_exponents['h_OH']*c12-salting_out_exponents['h_CO3']*c21-salting_out_exponents['h_K']*(c12+2*c21)\n",
    "    ),\n",
    "    co3*10**(3-pH)/initial_carbonate_equilibria['K1']\n",
    ")\n",
    "ee = np.minimum(1, fe*ve_rhe)\n",
    "ve_she = (electrode_reaction_kinetics['E_0_CO2'] - R*T/F*pH) / (\n",
    "    phi_ext - R*T/F*pH\n",
    ")\n",
    "ve_she = np.minimum(1, ve_she)\n",
    "ve_agcl = (electrode_reaction_kinetics['E_0_CO2'] - R*T/F*pH - 0.2) / (\n",
    "    phi_ext - R*T/F*pH - 0.2\n",
    ")\n",
    "ve_agcl = np.minimum(1, ve_agcl)\n",
    "eeshe = fe*ve_she\n",
    "eeagcl = fe*ve_agcl\n",
    "solubility = np.exp(\n",
    "    -salting_out_exponents['h_OH']*c12 - salting_out_exponents['h_CO3']*c21 - salting_out_exponents['h_K']*(c12+2*c21)\n",
    ")"
   ]
  },
  {
   "cell_type": "code",
   "execution_count": 77,
   "metadata": {},
   "outputs": [],
   "source": [
    "if input_parameters['Method']=='DIC':\n",
    "    varying_potential = pd.read_excel('./1-s2.0-S0013468621012779-mmc2.xlsx', sheet_name='Varying Potential')\n",
    "elif input_parameters['Method'] == 'CO2 eql':\n",
    "    varying_potential = pd.read_excel('./co2_eql.xlsx', sheet_name='Varying Potential')\n",
    "else:\n",
    "    raise ValueError\n",
    "\n",
    "column_map = {\n",
    "    'A_1.1': 'A_1_1',\n",
    "    'B_2.1': 'B_2_1',\n",
    "    'Potential vs RHE': 'potential_vs_rhe',\n",
    "    'CO Current Density (mA/cm^2)': 'co_current_density',\n",
    "    'CO2 (mol/m^3)': 'co2',\n",
    "    'CO3 (mol/m^3)': 'co3',\n",
    "    'FE': 'fe',\n",
    "    'HCO3 (mol/m^3)': 'hco3',\n",
    "    'VE(RHE)': 've_rhe',\n",
    "    'EE(%)': 'ee',\n",
    "    'VE(SHE%)': 've_she',\n",
    "    'VE(Ag/Cl%)': 've_agcl',\n",
    "    'EEAg/Cl': 'eeagcl',\n",
    "}\n",
    "k = 0\n",
    "fig, ax = plt.subplots(4, 4, figsize=(16, 16))\n",
    "for col in varying_potential.columns[4:]:\n",
    "    from_spreadsheet = varying_potential[col].values\n",
    "    try:\n",
    "        if col in column_map:\n",
    "            from_python = eval(column_map[col])\n",
    "        else:\n",
    "            col = col.replace(' ', '_')\n",
    "            from_python = eval(col)\n",
    "        # print(f'{col} is OK')\n",
    "    except:\n",
    "        try:\n",
    "            from_python = eval(col[0].lower()+col[1:])\n",
    "            # print(f'{col} is OK')\n",
    "        except:\n",
    "            try:\n",
    "                from_python = eval(col.lower())\n",
    "            except:\n",
    "                print(f'Error in {col}')\n",
    "    if not np.allclose(from_spreadsheet, from_python, rtol=1e-2):\n",
    "        ax[k//4,k%4].scatter(from_spreadsheet, from_python, s=1)\n",
    "        ax[k//4,k%4].axline([0,0], slope=1, color='k', lw=0.5)\n",
    "        ax[k//4,k%4].set_title(col)\n",
    "        print(f'{col} mismatch')\n",
    "        k += 1\n",
    "fig.tight_layout()\n",
    "if k>0:\n",
    "    plt.show()\n",
    "else:\n",
    "    plt.close()"
   ]
  },
  {
   "cell_type": "code",
   "execution_count": 78,
   "metadata": {},
   "outputs": [
    {
     "data": {
      "text/plain": [
       "[<matplotlib.lines.Line2D at 0x192b8e05e10>]"
      ]
     },
     "execution_count": 78,
     "metadata": {},
     "output_type": "execute_result"
    },
    {
     "data": {
      "image/png": "[encoded data removed]",
      "text/plain": [
       "<Figure size 640x480 with 1 Axes>"
      ]
     },
     "metadata": {},
     "output_type": "display_data"
    }
   ],
   "source": [
    "plt.plot(potential_vs_rhe, fe)"
   ]
  },
  {
   "cell_type": "code",
   "execution_count": null,
   "metadata": {},
   "outputs": [],
   "source": []
  }
 ],
 "metadata": {
  "kernelspec": {
   "display_name": "base",
   "language": "python",
   "name": "python3"
  },
  "language_info": {
   "codemirror_mode": {
    "name": "ipython",
    "version": 3
   },
   "file_extension": ".py",
   "mimetype": "text/x-python",
   "name": "python",
   "nbconvert_exporter": "python",
   "pygments_lexer": "ipython3",
   "version": "3.11.5"
  }
 },
 "nbformat": 4,
 "nbformat_minor": 2
}
